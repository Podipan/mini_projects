{
 "cells": [
  {
   "cell_type": "markdown",
   "metadata": {},
   "source": [
    "# Simple Twitter Analysis\n",
    "### Includes: lemmatization, text preprocessing, twitter api request, sentiment analysis and basic dataframe operations\n",
    "One of my first pieces of code. Twitter API credentials had expired by the time I uploaded it so there are no outputs."
   ]
  },
  {
   "cell_type": "code",
   "execution_count": null,
   "metadata": {},
   "outputs": [],
   "source": [
    "# Download any missing libraries (with pip)\n",
    "import sys\n",
    "!{sys.executable} -m pip install tweepy"
   ]
  },
  {
   "cell_type": "code",
   "execution_count": null,
   "metadata": {},
   "outputs": [],
   "source": [
    "# Imports\n",
    "import numpy as np\n",
    "import re\n",
    "import nltk\n",
    "import textblob\n",
    "from nltk.corpus import stopwords\n",
    "from nltk.stem.wordnet import WordNetLemmatizer\n",
    "import tweepy \n",
    "import pandas as pd "
   ]
  },
  {
   "cell_type": "code",
   "execution_count": null,
   "metadata": {},
   "outputs": [],
   "source": [
    "# Your credentials go here. \n",
    "ckey=\"******\"\n",
    "csecret=\"******\"\n",
    "atoken=\"******\"\n",
    "asecret=\"******\""
   ]
  },
  {
   "cell_type": "code",
   "execution_count": null,
   "metadata": {},
   "outputs": [],
   "source": [
    "auth = tweepy.OAuthHandler(ckey, csecret)\n",
    "auth.set_access_token(atoken, asecret)\n",
    "api = tweepy.API(auth)"
   ]
  },
  {
   "cell_type": "code",
   "execution_count": null,
   "metadata": {},
   "outputs": [],
   "source": [
    "TRACKING_KEYWORDS = [\"Cybertruck\", \"cybertruck\", \"CYBERTRUCK\"] #<----- YOUR KEYWORDS GO HERE, in this example is searched for cybertruck related tweets\n",
    "TWEETS_TO_CAPTURE = 2500 #MAX IS AROUND 3000 BUT SUBJECT TO TWITTER POLICY CHANGES. RETWEETS INCLUDED.\n"
   ]
  },
  {
   "cell_type": "code",
   "execution_count": null,
   "metadata": {},
   "outputs": [],
   "source": [
    "data_raw = [\"Initializer\"]\n",
    "location = [] #I HAVE CHOSEN TO ALSO GET THE LOCATION OF TWEETS, YOU CAN CHOOSE TO GET EXTRA INFO LIKE LANGUAGE, UPLOAD DEVICE ETC.\n",
    "for status in tweepy.Cursor(api.search,q=TRACKING_KEYWORDS, tweet_mode=\"extended\", lang=\"en\").items(TWEETS_TO_CAPTURE):\n",
    "    data_raw.append(status.full_text) # .full_text affects data type pulled, status alone grabs everything\n",
    "    location.append(status.user.location)\n",
    "del data_raw[0]\n",
    "print (\"Tweets downloaded\", len(data_raw))"
   ]
  },
  {
   "cell_type": "code",
   "execution_count": null,
   "metadata": {},
   "outputs": [],
   "source": [
    "#CREATES A DATAFRAME AND STORES ACQUIRED DATA THERE\n",
    "df = pd.DataFrame(data=data_raw, index=None, columns=[\"text\"], dtype=str, copy=False)\n",
    "print(df)"
   ]
  },
  {
   "cell_type": "code",
   "execution_count": null,
   "metadata": {},
   "outputs": [],
   "source": [
    "# DOWNLOADS ENGLISH STOPWORDS\n",
    "stop_words=set(stopwords.words(\"english\"))"
   ]
  },
  {
   "cell_type": "code",
   "execution_count": null,
   "metadata": {},
   "outputs": [],
   "source": [
    "# PREPROCESSING\n",
    "assistant = \"\"\n",
    "for i in df.index.values:\n",
    "    # LOWERING\n",
    "    assistant = df.loc[i, \"text\"].lower()\n",
    "    df.loc[i, \"text\"] = assistant.lower()\n",
    "    \n",
    "    # URL REMOVAL\n",
    "    assistant = df.loc[i, \"text\"]\n",
    "    assistant  = re.sub(r\"http\\S+\", '', assistant)\n",
    "    df.loc[i, \"text\"] = assistant\n",
    "    \n",
    "    # USER REMOVAL\n",
    "    assistant = df.loc[i, \"text\"]\n",
    "    assistant  = re.sub(r\"(?:\\@|https?\\://)\\S+\", '', assistant)\n",
    "    df.loc[i, \"text\"] = assistant\n",
    "    \n",
    "    # NUMBER & HTML REMOVAL\n",
    "    assistant = df.loc[i, \"text\"]\n",
    "    assistant  = re.sub('[0-9]+', '', assistant)\n",
    "    assistant  = re.sub('&amp', '', assistant)\n",
    "    df.loc[i, \"text\"] = assistant\n",
    "    \n",
    "    # EMOJI REMOVAL\n",
    "    assistant = df.loc[i, \"text\"]\n",
    "    assistant  = re.sub(r'[^\\x00-\\x7F]+', '', assistant)\n",
    "    df.loc[i, \"text\"] = assistant\n",
    "    \n",
    "    # PUNCTUATION REMOVAL\n",
    "    assistant = df.loc[i, \"text\"]\n",
    "    assistant  = re.sub(r'[,.;:/\\\\#]', '', assistant)\n",
    "    df.loc[i, \"text\"] = assistant\n",
    "    \n",
    "    # TOKENIZATION\n",
    "    assistant = df.loc[i, \"text\"]\n",
    "    assistant  = nltk.word_tokenize(assistant)\n",
    "    df.loc[i, \"text\"] = assistant\n",
    "   \n",
    "    \n",
    "    # REMOVE STOPWORDS & OTHER WORDS\n",
    "    other = [\"'s\"]\n",
    "    stop_words = list(stop_words)\n",
    "    stop_words.extend(other)\n",
    "    assistant = []\n",
    "    for word in df.loc[i, \"text\"]:\n",
    "        if word not in stop_words and word != \"rt\":\n",
    "            assistant.append(word)\n",
    "        df.loc[i, \"text\"] = assistant\n",
    "\n",
    "        \n",
    "    # LEMMATIZATION\n",
    "    lemmatizer = WordNetLemmatizer()\n",
    "    assistant = []\n",
    "    for word in df.loc[i, \"text\"]:\n",
    "        word = lemmatizer.lemmatize(word)\n",
    "        assistant.append(word)\n",
    "    df.loc[i, \"text\"] = assistant\n",
    "    \n",
    "    \n",
    "    # REMAKING TWEET INTO STRING\n",
    "    assistant = df.loc[i, \"text\"]\n",
    "    assistant = \" \".join(assistant)\n",
    "    df.loc[i, \"text\"] = assistant"
   ]
  },
  {
   "cell_type": "code",
   "execution_count": null,
   "metadata": {},
   "outputs": [],
   "source": [
    "# FINDS POLARITY OF EACH TWEET\n",
    "assistant = \"\"\n",
    "for i in df.index.values:\n",
    "    blob = textblob.TextBlob(df.loc[i, \"text\"])\n",
    "    df.loc[i, \"sentiment\"] = blob.sentiment.polarity"
   ]
  },
  {
   "cell_type": "code",
   "execution_count": null,
   "metadata": {},
   "outputs": [],
   "source": [
    "# SORTING DATAFRAME BY SENTIMENT\n",
    "df = df.sort_values(by='sentiment', ascending=True)"
   ]
  },
  {
   "cell_type": "code",
   "execution_count": null,
   "metadata": {},
   "outputs": [],
   "source": [
    "# OVERALL SENTIMENT\n",
    "assistant = 0\n",
    "amount_of_tweets = len(df.index.values)\n",
    "for i in df.index.values:\n",
    "    assistant = df.loc[i, \"sentiment\"] + assistant\n",
    "    \n",
    "overal_sentiment = assistant / amount_of_tweets\n",
    "print(\"THE OVERALL SENTIMENT IS\",overal_sentiment )"
   ]
  }
 ],
 "metadata": {
  "kernelspec": {
   "display_name": "Python 3",
   "language": "python",
   "name": "python3"
  },
  "language_info": {
   "codemirror_mode": {
    "name": "ipython",
    "version": 3
   },
   "file_extension": ".py",
   "mimetype": "text/x-python",
   "name": "python",
   "nbconvert_exporter": "python",
   "pygments_lexer": "ipython3",
   "version": "3.8.3"
  }
 },
 "nbformat": 4,
 "nbformat_minor": 4
}
