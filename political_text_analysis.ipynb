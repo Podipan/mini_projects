{
 "cells": [
  {
   "cell_type": "markdown",
   "metadata": {},
   "source": [
    "# Simple Twitter Analysis\n",
    "### Includes introductory: tokenization, text preprocessing, collocations, concordance, frequencies and sentiment analysis.\n",
    "One of my first pieces of code. Code created for the analysis of Mike Pompeo's speech (US Secretary of State) in Greece (2019). Can be used for any corpus of text. A txt file is inputed and then libraries nltk, pandas, matplotlib, gensim, regex and textblob are used for various tasks."
   ]
  },
  {
   "cell_type": "code",
   "execution_count": 2,
   "metadata": {},
   "outputs": [],
   "source": [
    "# LIBRARIES IMPORT\n",
    "import pandas as pd\n",
    "import os\n",
    "import re\n",
    "import nltk\n",
    "from nltk.probability import FreqDist\n",
    "import matplotlib as plt\n",
    "import nltk"
   ]
  },
  {
   "cell_type": "code",
   "execution_count": 4,
   "metadata": {},
   "outputs": [],
   "source": [
    "# OPENING FILE\n",
    "f=open('pompeo.txt', encoding='utf-8').read().lower() # CONVERTS ALL LETTER TO LOWERCASE TO REDUCE UNIQUE WORDS"
   ]
  },
  {
   "cell_type": "code",
   "execution_count": 5,
   "metadata": {},
   "outputs": [],
   "source": [
    "# PRE-PROCESSING\n",
    "f = re.sub(\"\\n\",\"\", f) # REMOVES NEWLINE CHARACTER \"\\n\"\n",
    "f = re.sub(\"\\([^()]*\\)\",\"\", f) # REMOVES CONTENT IN PARENTHESES ex. \"laughter\""
   ]
  },
  {
   "cell_type": "code",
   "execution_count": 6,
   "metadata": {},
   "outputs": [
    {
     "name": "stdout",
     "output_type": "stream",
     "text": [
      "5768 ['secretary', 'pompeo', ':', 'so', 'i', 'have', 'some', 'greek', 'words', 'sprinkled', 'throughout', ',', 'and', 'i', '’', 'm', 'terrified', '.', 'but', 'i']\n"
     ]
    }
   ],
   "source": [
    "# TOKENIZATION\n",
    "tokens=nltk.word_tokenize(f)\n",
    "print(len(tokens), tokens[:20])"
   ]
  },
  {
   "cell_type": "code",
   "execution_count": 7,
   "metadata": {},
   "outputs": [],
   "source": [
    "# CONVERSION OF tokens LIST TO NLTK TEXT\n",
    "text=nltk.Text(tokens)"
   ]
  },
  {
   "cell_type": "code",
   "execution_count": 9,
   "metadata": {},
   "outputs": [
    {
     "data": {
      "image/png": "[encoded data removed]",
      "text/plain": [
       "<Figure size 432x288 with 1 Axes>"
      ]
     },
     "metadata": {
      "needs_background": "light"
     },
     "output_type": "display_data"
    },
    {
     "name": "stdout",
     "output_type": "stream",
     "text": [
      "None\n",
      "Displaying 5 of 5 matches:\n",
      ".moderator : focusing a bit more on turkey , because i know most people in the\n",
      "prus expect from the u.s. regarding turkey ? for example , if turkish troops l\n",
      "cyprus . the u.s. has indeed warned turkey to stop drilling in cyprus , in cyp\n",
      "is has been ignored . and in fact , turkey plans to start offshore drilling , \n",
      "e to communicate that – not only to turkey . we do this all across the world .\n",
      "None\n"
     ]
    }
   ],
   "source": [
    "# GENERATION (and printing) OF DISPERSION PLOT, CONCORDANCE\n",
    "print(text.dispersion_plot([\"Greece\", \"NATO\", \"Turkey\", \"stability\"]))\n",
    "print(text.concordance(\"Turkey\"))"
   ]
  },
  {
   "cell_type": "code",
   "execution_count": 10,
   "metadata": {},
   "outputs": [],
   "source": [
    "# REMOVES STOPWORDS & PUNCTUATION\n",
    "from nltk.corpus import stopwords\n",
    "set(stopwords.words('english'))\n",
    "stop_words = nltk.corpus.stopwords.words('english')\n",
    "newStopWords = ['.',',', \"?\", \"!\", \"-\", \"_\", \"'\", \"(\", \"(\",\":\"] # CUSTOM ADD WORDS TO REMOVE\n",
    "stop_words.extend(newStopWords)\n",
    "processed_tokens = [w for w in tokens if not w in stop_words] \n",
    "processed_tokens = [] \n",
    "for w in tokens: \n",
    "    if w not in stop_words: \n",
    "        processed_tokens.append(w) "
   ]
  },
  {
   "cell_type": "code",
   "execution_count": 11,
   "metadata": {},
   "outputs": [
    {
     "data": {
      "text/plain": [
       "[('’', 198),\n",
       " ('–', 56),\n",
       " ('greece', 30),\n",
       " ('pompeo', 21),\n",
       " ('know', 21),\n",
       " ('greek', 20),\n",
       " ('right', 20),\n",
       " ('countries', 18),\n",
       " ('think', 17),\n",
       " ('people', 17),\n",
       " ('world', 17),\n",
       " ('secretary', 16),\n",
       " ('good', 16),\n",
       " ('america', 14),\n",
       " ('way', 14),\n",
       " ('new', 14),\n",
       " ('work', 14),\n",
       " ('set', 13),\n",
       " ('u.s.', 13),\n",
       " ('want', 12),\n",
       " ('make', 12),\n",
       " ('one', 11),\n",
       " ('energy', 11),\n",
       " ('united', 11),\n",
       " ('help', 11),\n",
       " ('see', 10),\n",
       " ('nations', 10),\n",
       " ('companies', 10),\n",
       " ('states', 10),\n",
       " ('things', 10),\n",
       " ('sure', 10),\n",
       " ('together', 9),\n",
       " ('president', 9),\n",
       " ('“', 9),\n",
       " ('”', 9),\n",
       " ('create', 9),\n",
       " ('china', 9),\n",
       " ('government', 9),\n",
       " ('thank', 8),\n",
       " ('us', 8),\n",
       " ('investment', 8),\n",
       " ('around', 8),\n",
       " (';', 8),\n",
       " ('every', 8),\n",
       " ('like', 7),\n",
       " ('great', 7),\n",
       " ('today', 7),\n",
       " ('also', 7),\n",
       " ('two', 7),\n",
       " ('put', 7)]"
      ]
     },
     "execution_count": 11,
     "metadata": {},
     "output_type": "execute_result"
    }
   ],
   "source": [
    "# GETTING THE 50 MOST COMMON WORDS\n",
    "fdist=FreqDist(processed_tokens)\n",
    "fdist.most_common(50)"
   ]
  },
  {
   "cell_type": "code",
   "execution_count": 12,
   "metadata": {},
   "outputs": [
    {
     "name": "stdout",
     "output_type": "stream",
     "text": [
      "it’s a game-changer for greece, it’s a game-changer for the region, it’s a game-changer for america.over the last few years, we’ve seen both of our nations recognize that we have to put faith in risk-taking, and not redistribution.and we didn’t come to that conclusion because we were forced to do so.\n",
      "and i – it’s what i discussed with greece’s leaders earlier today.it begins with a fundamental faith that cultivating and growing our private sector ties works between our two countries.\n",
      "risking private capital is the ultimate sign of confidence in an economy, and america is prepared to do that by investing here today.we’ve seen it already, companies that are truly betting on greece.\n",
      "and earlier this week, the prime minister inaugurated a new 300 million euro gas-fired power plant featuring ge technology.this way forward – this way forward is sustained by a stable and predictable rule of law, and basic property rights, and a commitment to honoring them always.and it’s solidified on a personal level.\n",
      "and as president trump at the united nations general assembly just last week, “our time is one of great contests, high stakes, and clear choices.”and that’s just as true for the eastern mediterranean as it is for the rest of the world.take the balkans, which remain an area of strategic competition.take russia, which undermines the sovereignty of your neighbors, it tries to stifle religious freedom for many orthodox believers.take the islamic republic of iran, whose terrorist proxies have destabilized the middle east, turned lebanon into a client state, and helped create a refugee crisis that continues to impact greece to this day.take china – china, which is using economic means to coerce countries into lopsided deals that benefit beijing and leave its clients mired in debt.take, too, the fierce competition for energy resources – which could create serious economic and strategic instability in this region.what’s great about each of these is that we are seeing greece take on these challenges, showing the way forward.you’ve secured the prespa agreement.\n",
      "it’s a step towards stability in the balkans.you’ve upheld sanctions on russia for its invasion of crimea and eastern ukraine.you’ve refused an iranian ship filled with oil, oil for the assad dock in greek harbors.and you’re taking a hard look at the risks of allowing china to build sensitive 5g networks.instead, you’ve made good decisions.\n",
      "you’ve grown ties with israel to secure energy supplies.and you’re also beginning to see the world just as we do.it’s why i wanted to be here, it’s why i’ve come to greece – to expand a partnership that’s already at the best level that i think it has ever been.i was very proud, last year, to have the opportunity – i was fairly new as secretary of state – to host the first u.s.-greek strategic dialogue.\n",
      "and much has come from these.you’ve given us greater access to your military bases, and we’ve made new investments in them to our mutual benefit and to the communities surrounding them.our troops are training together more frequently, and yours even hosted ours for a thanksgiving at a base.our law enforcement and border security cooperation has helped to manage the flows of migrants and refugees arriving here in greece.and just this last march, i had the opportunity to meet in jerusalem with your former prime minister, and the prime ministers of israel and cyprus, to talk about energy.and we are eager to set down clear rules and a strong line of cooperation between our two countries.my aim – the aim of president trump, the aim of our state department – is to help greece reap its own windfall in energy just in the same way that america has.we know this, too.\n",
      "growth is stalling in parts of europe, places that were the traditional engines of prosperity.greece can show the way forward.the greek democracy has proved incredibly resilient; now the greek economy can show the same ability to bounce back strong.look, it’s a bit selfish; america needs to keep greece successful and to help secure the eastern mediterranean.so let’s continue our work to stop malign russian influence, both within greece, and within your neighbors’ borders.let’s continue to exert pressure on the islamic republic of iran, the world’s largest state sponsor of terror, until that regime becomes a normal nation.let’s take the eu seriously when it calls china a “systemic rival.”let’s uphold the rule of law and build partnerships with free nations, so that we can extract energy resources in a peaceful and coordinated way.i’ll close, and then i’ll have a chance to answer some questions, with a short story.\n",
      "new commercial doors will open soon as well.and so whether it’s olga’s story, or daphne’s, the future looks very bright for greece.your democracy has held true.you’ve taken bold steps forward for economic growth.and you’re shoring up a relationship with america and other free nations that value democracy in the same way that you do.you should know america’s eager to keep showing the way right alongside you.good luck, god bless you, and may god bless greece and the united states of america.\n",
      "i understand that you have been travelling in the region during the last few days, and this is your last stop, right?secretary pompeo: yes, that’s true.\n",
      "and what kind of long-term commitment can you offer greece to guarantee that this not just a temporary shift in attention?secretary pompeo: look, i don’t know that it’s new, but it’s certainly reinforced.\n",
      "we watch – we know the importance of the transatlantic relationships with europe, but we’ve also seen that within europe, there are countries where we really feel like there’s space for american investment to come in, for america’s military to continue to grow and succeed in a strategic way.\n",
      "we’ve appointed a couple of new leaders to take on the challenges between two of the countries here to try and deliver an outcome that will create stability here in the region.so we’ve put a real priority on it, and it was great for me to get a chance to come here.\n",
      "it’s been a fantastic trip, and one that i hope will put my teams on the ground, who will be here after i leave, to continue to work closely with these countries to develop better outcomes for those countries, for the region, and things that will benefit the united states of america as well.moderator: okay.\n",
      "so i wanted to know if these two are connected, and if you plan to remove or reduce your troops currently in turkey.secretary pompeo: yeah, they’re not connected.\n",
      "it’s much deeper than that, it’s much more strategic than that; it will have a much greater impact on the capacity for the united states and greece to work together militarily, and to be supportive of nato.so no, this agreement was connected to the relationship between the united states and greece, and there was no other country that drove this other than our knowledge that two countries working together with this amended agreement will lead to better outcomes for each of us.moderator: focusing a bit more on turkey, because i know most people in the room would like me to focus on that: what can greece and cyprus expect from the u.s. regarding turkey?\n",
      "we’ve talked to countries that have engaged in activity that we say is fundamentally at odds with our value set, and in – and with the value set of greece.so what we’re engaged in is a set of activities that will prevent precisely what you just described from happening, to try and create a set of incentives that say, “that’s not the way for countries to benefit.” take a look.\n",
      "we ask every european country to care about this as much as we do.and so you can watch how this administration behaves, and you can be confident that we will act in ways that protect and preserve these basic ideas of sovereignty, these basic ideas of the rule of law, and these basic ideas around the protection of private property – the same value set that the people of greece have.moderator: now moving to cyprus.\n",
      "so should we expect something more punitive, a punitive move?secretary pompeo: yeah, we’ll keep working to convince the turks this isn’t in anyone’s best interest.\n",
      "every country understands these basic rules about who owns what, and there’s a handful of places in the world that it’s pretty complicated, and there’s a bunch of places where people assert that it’s complicated when in fact everyone knows the reality.\n",
      "and the world – not just the united states – needs to hold nations accountable for this.moderator: you mentioned energy in your speech, and this is a very crucial part in the u.s.-greek relations.\n",
      "and how close are we to its implementation?secretary pompeo: yeah, i don’t know the answer to the how close are we, other than to say that we’re a heck of a lot closer than we were 12 or 14 months ago.\n",
      "so there’s been real progress made, progress with governments to make sure that everyone’s onboard – not only onboard with creating rules and systems so that this can be built out, but it has to work, right.\n",
      "and so creating a space where there’ll be actual demand for the product at the price that it can be delivered.i think we’re getting closer, but there’s still an awful lot of work to do.moderator: do you think that u.s. companies will be interested in investing in the project in the future?secretary pompeo: if they can make money.\n",
      "whether it’s here, in greece, or around the world, they invest when they have a stable government, a set of rules that are predictable so that they can make what will be a decades-long investment, and then for the biggest companies in the world for sure – and this would be many of the energy companies that might participate, american companies, european energy companies – they have shareholders.\n",
      "we want to be the ones that are on the back end doing distribution.” all of the elements that go into completing the project that will be successful in the short run, and in the medium and long run, turn on creating projects that can get done quickly – so getting red tape, i think the greek government – new greek government’s done fantastic work at speeding permitting processes and the like.\n",
      "so taking this into account, how realistic is to expect that it will surpass this big investor?secretary pompeo: i am confident that the greek people and the greek government will make good decisions about when and how, or if to take chinese investments.\n",
      "and when the chinese show up with cheap money – and i will tell you, the number of nations that i have talked to who have said, “you know what, it turns out they built a big energy project and it produces nearly nothing,” – they showed up and said they wanted to build a bridge, and there you see it, it’s halfway finished; or better still, yeah, they finished it, and six months later no one would stand behind the work product.greece is smart.\n",
      "they have a responsibility to make sure that when a country shows up with a facially commercial product but it turns out that that product is being offered for political interest – that is, you’re loaning money knowing that it is likely that you will foreclose, and take over the real estate; or you’re showing up to provide maybe a telecommunications network because you want your communist party to be able to steal all the information that’s going to move across that network – i’m confident the greek people will be able to evaluate that, and the greek leadership will make a good set of decisions.it’s very important.\n",
      "and so we’re spending a good deal of time making sure that the risks connected to some of the infrastructure projects that have a national security implication are fully evaluated.\n",
      "and so that we’re share our information, and then each country will make decisions for itself.moderator: at the final point, i can’t help but ask you about the political developments in the u.s. since you have confirmed that you were present during the call on july 25th between president trump and president zelensky, can you tell us, do you think that there were any red flags raised during that call that require further investigation?secretary pompeo: i don’t think anybody here is particularly interested in this.\n",
      "i think they want to know about the relationship with america and greece.\n",
      "we wanted to make sure that if we underwrote javelin missile systems – something that the previous administration refused to do – we wanted to make sure that we were doing this with a government that was straight-up, and would use that money for the things that it said it would use that money for.those are the kinds of things that we do when we’re trying to deliver on behalf of the american people appropriately.moderator: and can you assure your allies – greece, other countries of the balkans, the u.s. allies – that they will not be subject to political pressure based on their willingness or unwillingness to help the interests of a u.s. president?secretary pompeo: what’s the question?\n",
      "we work together in a political environment to achieve what the greek people want.\n",
      "it’s totally appropriate.moderator: okay.secretary pompeo: right?\n",
      "yeah, it’s totally right.moderator: so you don’t think that —secretary pompeo: go ahead and say it.\n",
      "moderator: okay.secretary pompeo: yeah, it’s okay.\n",
      "the fact that we’re engaged in the world, trying to create a partnership with greece?\n",
      "no, i think it’s going to be great.moderator: okay, okay.secretary pompeo: yeah.moderator: thank you very much.\n"
     ]
    }
   ],
   "source": [
    "# GETTING SUMMARY\n",
    "from gensim.summarization.summarizer import summarize\n",
    "print(summarize(f))"
   ]
  },
  {
   "cell_type": "code",
   "execution_count": 14,
   "metadata": {},
   "outputs": [
    {
     "name": "stdout",
     "output_type": "stream",
     "text": [
      "Sentiment(polarity=0.1837120866077703, subjectivity=0.43850316283769475)\n"
     ]
    }
   ],
   "source": [
    "# GETTING SENTIMENT\n",
    "from textblob import TextBlob\n",
    "blob = TextBlob(f)\n",
    "print(blob.sentiment)"
   ]
  }
 ],
 "metadata": {
  "kernelspec": {
   "display_name": "Python 3",
   "language": "python",
   "name": "python3"
  },
  "language_info": {
   "codemirror_mode": {
    "name": "ipython",
    "version": 3
   },
   "file_extension": ".py",
   "mimetype": "text/x-python",
   "name": "python",
   "nbconvert_exporter": "python",
   "pygments_lexer": "ipython3",
   "version": "3.8.3"
  }
 },
 "nbformat": 4,
 "nbformat_minor": 4
}
