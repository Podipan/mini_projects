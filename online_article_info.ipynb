{
 "cells": [
  {
   "cell_type": "markdown",
   "metadata": {},
   "source": [
    "This script makes use of library newspaper3k in order to get various data from online articles which may not be public or visible.\n",
    "You can use the data acquired to create wordclouds, perform extra nlp tasks or simply read the news!\n",
    "You can scrape multiple articles from a specific site. Check https://newspaper.readthedocs.io/en/latest/"
   ]
  },
  {
   "cell_type": "code",
   "execution_count": 1,
   "metadata": {},
   "outputs": [
    {
     "name": "stdout",
     "output_type": "stream",
     "text": [
      "import completed\n"
     ]
    }
   ],
   "source": [
    "#IMPORT OF USED LIBRARIES\n",
    "import numpy as np\n",
    "import pandas as pd\n",
    "import newspaper\n",
    "from newspaper import Article\n",
    "print(\"import completed\")"
   ]
  },
  {
   "cell_type": "code",
   "execution_count": 4,
   "metadata": {},
   "outputs": [],
   "source": [
    "#GETTING TARGET ARTICLE URL \n",
    "url = \"https://www.nytimes.com/live/2020/12/16/us/joe-biden-trump\"\n",
    "article = Article(url)\n",
    "article.download()\n",
    "article.parse()\n",
    "article.nlp()"
   ]
  },
  {
   "cell_type": "code",
   "execution_count": 5,
   "metadata": {},
   "outputs": [
    {
     "name": "stdout",
     "output_type": "stream",
     "text": [
      "ARTICLE AUTHOR:  ['Eileen Sullivan', 'Thomas Kaplan', 'Catie Edmondson', 'Nicholas Fandos', 'Eric Lipton', 'Maggie Haberman', 'Zolan Kanno-Youngs', 'Alan Rappeport', 'Sheera Frenkel', 'Katherine J. Wu']\n",
      "ARTICLE DATE:  2020-12-16 00:00:00\n",
      "ARTICLE SUMMARY:  ET Transition Live Updates: Biden Introduces Buttigieg as Pick to Lead Transportation If he is confirmed, Pete Buttigieg would be the first openly gay cabinet secretary.\n",
      "“We selected Pete for transportation because the department is at the intersection of some of our most ambitious plans to build back better,” Mr. Biden said.\n",
      "(Under Mr. Trump, Richard Grenell, who is also openly gay, served as acting director of national intelligence, a cabinet-level post.\n",
      "Mr. Biden said at the time that Mr. Buttigieg reminded him of his late son, Beau Biden, who died of brain cancer in 2015.\n",
      "At the event on Wednesday, Mr. Biden also reiterated that he planned to get the Covid-19 vaccine in public.\n",
      "ARTICLE KEYWORDS:  ['buttigieg', 'lead', 'mr', 'committee', 'transition', 'inaugural', 'inauguration', 'introduces', 'presidentelect', 'administration', 'bidens', 'live', 'updates', 'biden', 'transportation', 'trump', 'pick']\n"
     ]
    }
   ],
   "source": [
    "#PRINTING BASIC INFO\n",
    "print(\"ARTICLE AUTHOR: \", article.authors)\n",
    "print(\"ARTICLE DATE: \", article.publish_date)\n",
    "print(\"ARTICLE SUMMARY: \", article.summary)\n",
    "print(\"ARTICLE KEYWORDS: \", article.keywords)"
   ]
  },
  {
   "cell_type": "code",
   "execution_count": null,
   "metadata": {},
   "outputs": [],
   "source": []
  }
 ],
 "metadata": {
  "kernelspec": {
   "display_name": "Python 3",
   "language": "python",
   "name": "python3"
  },
  "language_info": {
   "codemirror_mode": {
    "name": "ipython",
    "version": 3
   },
   "file_extension": ".py",
   "mimetype": "text/x-python",
   "name": "python",
   "nbconvert_exporter": "python",
   "pygments_lexer": "ipython3",
   "version": "3.8.3"
  }
 },
 "nbformat": 4,
 "nbformat_minor": 4
}
